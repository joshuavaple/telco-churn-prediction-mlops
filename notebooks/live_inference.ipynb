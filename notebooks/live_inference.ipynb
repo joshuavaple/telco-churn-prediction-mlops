{
 "cells": [
  {
   "cell_type": "code",
   "execution_count": 1,
   "metadata": {},
   "outputs": [],
   "source": [
    "import requests\n",
    "import pandas as pd\n",
    "import json\n",
    "from dotenv import load_dotenv\n",
    "import os"
   ]
  },
  {
   "cell_type": "code",
   "execution_count": 2,
   "metadata": {},
   "outputs": [],
   "source": [
    "df_inference_raw = pd.read_csv('../data/inference/df_inference_raw.csv')\n",
    "df_inference_raw = df_inference_raw.drop(columns=['Churn'])"
   ]
  },
  {
   "cell_type": "markdown",
   "metadata": {},
   "source": [
    "### 1. Without API Key Authentication"
   ]
  },
  {
   "cell_type": "code",
   "execution_count": 39,
   "metadata": {},
   "outputs": [
    {
     "name": "stdout",
     "output_type": "stream",
     "text": [
      "{\"AccountWeeks\": 103, \"ContractRenewal\": 1, \"DataPlan\": 0, \"DataUsage\": 0.0, \"CustServCalls\": 1, \"DayMins\": 166.6, \"DayCalls\": 84, \"MonthlyCharge\": 45.0, \"OverageFee\": 9.62, \"RoamMins\": 7.7}\n",
      "{'prediction': 0}\n"
     ]
    }
   ],
   "source": [
    "# Define the URL of your FastAPI endpoint\n",
    "url = \"http://localhost:8081/predict\"  # Adjust if necessary\n",
    "\n",
    "# Convert the sample input to JSON format (string)\n",
    "sample_row = df_inference_raw.sample(1)\n",
    "sample_row_dict = sample_row.to_dict(orient='records')[0]\n",
    "\n",
    "data_json = json.dumps(sample_row_dict)\n",
    "print(data_json)\n",
    "# Send a POST request to the API with proper headers\n",
    "response = requests.post(url, data=data_json, headers={\"Content-Type\": \"application/json\"})\n",
    "\n",
    "# Print the response from the server\n",
    "print(response.json())"
   ]
  },
  {
   "cell_type": "markdown",
   "metadata": {},
   "source": [
    "### 2. With API Key Auth"
   ]
  },
  {
   "cell_type": "code",
   "execution_count": 19,
   "metadata": {},
   "outputs": [
    {
     "name": "stdout",
     "output_type": "stream",
     "text": [
      "{'prediction': 0}\n"
     ]
    }
   ],
   "source": [
    "# Define the URL of your FastAPI endpoint\n",
    "url = \"http://localhost:8082/predict_auth\"  # Adjust if necessary\n",
    "\n",
    "sample_row = df_inference_raw.sample(1)\n",
    "sample_row_dict = sample_row.to_dict(orient='records')[0]\n",
    "\n",
    "data_json = json.dumps(sample_row_dict)\n",
    "\n",
    "# Define the headers, including the API key\n",
    "load_dotenv('./client_api_key.env', override=True)\n",
    "API_KEY = os.getenv('API_KEY') # same as configured in client\n",
    "\n",
    "headers = {\n",
    "    'Content-Type': 'application/json',\n",
    "    'X-API-Key': API_KEY\n",
    "}\n",
    "\n",
    "# Send the POST request\n",
    "response = requests.post(url, data=data_json, headers=headers)\n",
    "print(response.json())"
   ]
  }
 ],
 "metadata": {
  "kernelspec": {
   "display_name": "telco-churn-prediction",
   "language": "python",
   "name": "python3"
  },
  "language_info": {
   "codemirror_mode": {
    "name": "ipython",
    "version": 3
   },
   "file_extension": ".py",
   "mimetype": "text/x-python",
   "name": "python",
   "nbconvert_exporter": "python",
   "pygments_lexer": "ipython3",
   "version": "3.11.10"
  }
 },
 "nbformat": 4,
 "nbformat_minor": 2
}
