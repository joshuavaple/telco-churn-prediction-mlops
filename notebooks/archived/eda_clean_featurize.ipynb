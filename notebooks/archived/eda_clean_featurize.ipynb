{
 "cells": [
  {
   "cell_type": "code",
   "execution_count": 17,
   "metadata": {},
   "outputs": [],
   "source": [
    "import pandas as pd\n",
    "from loguru import logger\n",
    "import json"
   ]
  },
  {
   "cell_type": "code",
   "execution_count": 18,
   "metadata": {},
   "outputs": [
    {
     "name": "stderr",
     "output_type": "stream",
     "text": [
      "\u001b[32m2024-10-10 01:41:54.850\u001b[0m | \u001b[1mINFO    \u001b[0m | \u001b[36m__main__\u001b[0m:\u001b[36m<module>\u001b[0m:\u001b[36m2\u001b[0m - \u001b[1mData loaded with shape: (100000, 100)\u001b[0m\n"
     ]
    }
   ],
   "source": [
    "df_raw = pd.read_csv('../data/bronze/telecom-customer-churn.csv')\n",
    "logger.info(f\"Data loaded with shape: {df_raw.shape}\")\n",
    "# logger.info(f\"Columns: {df_raw.columns}\")"
   ]
  },
  {
   "cell_type": "code",
   "execution_count": 19,
   "metadata": {},
   "outputs": [],
   "source": [
    "#load the metadata from a json file:\n",
    "with open('../data/bronze/telecom-customer-metadata.json') as f:\n",
    "    metadata = json.load(f)\n",
    "\n",
    "col_desc_list = metadata['recordSet'][0]['field']\n",
    "# get name and description for eac of the element in the list\n",
    "col_desc_dict = {el['name']: el['description'] for el in col_desc_list}"
   ]
  },
  {
   "cell_type": "code",
   "execution_count": 20,
   "metadata": {},
   "outputs": [
    {
     "data": {
      "text/plain": [
       "'Total number of months in service'"
      ]
     },
     "execution_count": 20,
     "metadata": {},
     "output_type": "execute_result"
    }
   ],
   "source": [
    "# we can use the dict to see the description of the columns\n",
    "col_desc_dict['months']"
   ]
  },
  {
   "cell_type": "code",
   "execution_count": 21,
   "metadata": {},
   "outputs": [],
   "source": [
    "# rearrange the columns:\n",
    "# put the label column at the end (churn)\n",
    "# put the ID column at the beginning (Customer_ID)\n",
    "label_col = 'churn'\n",
    "id_col = 'Customer_ID'\n",
    "columns = df_raw.columns.tolist()\n",
    "columns.remove(label_col)\n",
    "columns.remove(id_col)\n",
    "columns.insert(0, id_col)\n",
    "columns.append(label_col)\n",
    "df_raw = df_raw[columns]\n",
    "\n",
    "# only retain columns with no missing values\n",
    "retained_cols = df_raw.columns[df_raw.isnull().mean() == 0]\n"
   ]
  },
  {
   "cell_type": "code",
   "execution_count": 22,
   "metadata": {},
   "outputs": [],
   "source": [
    "# split to train and test:\n",
    "from sklearn.model_selection import train_test_split\n",
    "\n",
    "df_raw_train, df_raw_test = train_test_split(df_raw, test_size=0.2, random_state=99, stratify=df_raw['churn'])"
   ]
  },
  {
   "cell_type": "code",
   "execution_count": 23,
   "metadata": {},
   "outputs": [],
   "source": [
    "# export the df_raw_test\n",
    "df_raw_test.to_csv('../data/inference/df_raw_test.csv', index=False)"
   ]
  },
  {
   "cell_type": "markdown",
   "metadata": {},
   "source": [
    "## 2. Cleaning and Featurization"
   ]
  },
  {
   "cell_type": "markdown",
   "metadata": {},
   "source": [
    "The following steps are to be reproduced if requests from raw data:\n",
    "- Remove cols that were removed from the initial steps\n",
    "- Scaled numberical values by the saved scaler object\n",
    "- One-hot encode the categorical cols"
   ]
  },
  {
   "cell_type": "code",
   "execution_count": 56,
   "metadata": {},
   "outputs": [],
   "source": [
    "# remove columns with missing values:\n",
    "df_train = df_raw_train[retained_cols]\n",
    "labels = df_train[label_col].to_list()\n",
    "ids = df_train[id_col].to_list()\n",
    "\n",
    "num_cols = df_train.select_dtypes(include='number').columns.tolist()\n",
    "#exclude the label column and the ID column\n",
    "num_cols.remove(label_col)\n",
    "num_cols.remove(id_col)\n",
    "\n",
    "cat_cols = df_train.select_dtypes(exclude='number').columns.tolist()"
   ]
  },
  {
   "cell_type": "code",
   "execution_count": 36,
   "metadata": {},
   "outputs": [
    {
     "data": {
      "text/plain": [
       "(80000, 57)"
      ]
     },
     "execution_count": 36,
     "metadata": {},
     "output_type": "execute_result"
    }
   ],
   "source": [
    "df_train.shape"
   ]
  },
  {
   "cell_type": "markdown",
   "metadata": {},
   "source": [
    "### Featurize the numberical cols"
   ]
  },
  {
   "cell_type": "code",
   "execution_count": 37,
   "metadata": {},
   "outputs": [],
   "source": [
    "df_train_scaled = df_train[num_cols].copy()\n",
    "\n",
    "from sklearn.preprocessing import StandardScaler\n",
    "\n",
    "scaler = StandardScaler()\n",
    "df_train_scaled[num_cols] = scaler.fit_transform(df_train_scaled)"
   ]
  },
  {
   "cell_type": "code",
   "execution_count": 38,
   "metadata": {},
   "outputs": [
    {
     "data": {
      "text/plain": [
       "(80000, 52)"
      ]
     },
     "execution_count": 38,
     "metadata": {},
     "output_type": "execute_result"
    }
   ],
   "source": [
    "df_train_scaled.shape"
   ]
  },
  {
   "cell_type": "markdown",
   "metadata": {},
   "source": [
    "### Encode the categorical cols"
   ]
  },
  {
   "cell_type": "code",
   "execution_count": 39,
   "metadata": {},
   "outputs": [],
   "source": [
    "df_train_encoded = df_train[cat_cols].copy()\n",
    "\n",
    "from sklearn.preprocessing import OneHotEncoder\n",
    "\n",
    "encoder = OneHotEncoder(drop='first', sparse_output=False)\n",
    "encoded_data = encoder.fit_transform(df_train_encoded)\n",
    "\n",
    "columns_encoded = encoder.get_feature_names_out()\n",
    "df_train_encoded = pd.DataFrame(encoded_data, columns=columns_encoded)"
   ]
  },
  {
   "cell_type": "code",
   "execution_count": 41,
   "metadata": {},
   "outputs": [
    {
     "data": {
      "text/plain": [
       "(80000, 55)"
      ]
     },
     "execution_count": 41,
     "metadata": {},
     "output_type": "execute_result"
    }
   ],
   "source": [
    "df_train_encoded.shape"
   ]
  },
  {
   "cell_type": "markdown",
   "metadata": {},
   "source": [
    "### Merge to final featurized data"
   ]
  },
  {
   "cell_type": "code",
   "execution_count": 58,
   "metadata": {},
   "outputs": [],
   "source": [
    "# combine the scaled and encoded data horizontally to the final dataframe\n",
    "# need to reset index to avoid pandas doing outer-joining\n",
    "df_train_scaled.reset_index(drop=True, inplace=True)\n",
    "df_train_encoded.reset_index(drop=True, inplace=True)\n",
    "df_train_featurized = pd.concat([df_train_scaled, df_train_encoded], axis=1)\n",
    "# add the label and ID columns\n",
    "df_train_featurized[id_col] = ids\n",
    "df_train_featurized[label_col] = labels"
   ]
  },
  {
   "cell_type": "code",
   "execution_count": 59,
   "metadata": {},
   "outputs": [
    {
     "data": {
      "text/plain": [
       "(80000, 109)"
      ]
     },
     "execution_count": 59,
     "metadata": {},
     "output_type": "execute_result"
    }
   ],
   "source": [
    "df_train_featurized.shape"
   ]
  },
  {
   "cell_type": "markdown",
   "metadata": {},
   "source": [
    "### Export it to Gold layer"
   ]
  },
  {
   "cell_type": "code",
   "execution_count": 60,
   "metadata": {},
   "outputs": [],
   "source": [
    "df_train_featurized.to_parquet('../data/gold/telecom-customer-churn-featurized.parquet', index=False)"
   ]
  },
  {
   "cell_type": "code",
   "execution_count": 61,
   "metadata": {},
   "outputs": [
    {
     "data": {
      "text/html": [
       "<div>\n",
       "<style scoped>\n",
       "    .dataframe tbody tr th:only-of-type {\n",
       "        vertical-align: middle;\n",
       "    }\n",
       "\n",
       "    .dataframe tbody tr th {\n",
       "        vertical-align: top;\n",
       "    }\n",
       "\n",
       "    .dataframe thead th {\n",
       "        text-align: right;\n",
       "    }\n",
       "</style>\n",
       "<table border=\"1\" class=\"dataframe\">\n",
       "  <thead>\n",
       "    <tr style=\"text-align: right;\">\n",
       "      <th></th>\n",
       "      <th>drop_vce_Mean</th>\n",
       "      <th>drop_dat_Mean</th>\n",
       "      <th>blck_vce_Mean</th>\n",
       "      <th>blck_dat_Mean</th>\n",
       "      <th>unan_vce_Mean</th>\n",
       "      <th>unan_dat_Mean</th>\n",
       "      <th>plcd_vce_Mean</th>\n",
       "      <th>plcd_dat_Mean</th>\n",
       "      <th>recv_vce_Mean</th>\n",
       "      <th>recv_sms_Mean</th>\n",
       "      <th>...</th>\n",
       "      <th>crclscod_Z</th>\n",
       "      <th>crclscod_Z1</th>\n",
       "      <th>crclscod_Z2</th>\n",
       "      <th>crclscod_Z4</th>\n",
       "      <th>crclscod_Z5</th>\n",
       "      <th>crclscod_ZA</th>\n",
       "      <th>crclscod_ZY</th>\n",
       "      <th>asl_flag_Y</th>\n",
       "      <th>Customer_ID</th>\n",
       "      <th>churn</th>\n",
       "    </tr>\n",
       "  </thead>\n",
       "  <tbody>\n",
       "    <tr>\n",
       "      <th>0</th>\n",
       "      <td>-0.255636</td>\n",
       "      <td>-0.044145</td>\n",
       "      <td>-0.287568</td>\n",
       "      <td>-0.016558</td>\n",
       "      <td>0.013389</td>\n",
       "      <td>-0.057119</td>\n",
       "      <td>-0.176420</td>\n",
       "      <td>-0.059700</td>\n",
       "      <td>-0.245900</td>\n",
       "      <td>-0.021693</td>\n",
       "      <td>...</td>\n",
       "      <td>0.0</td>\n",
       "      <td>0.0</td>\n",
       "      <td>0.0</td>\n",
       "      <td>0.0</td>\n",
       "      <td>0.0</td>\n",
       "      <td>0.0</td>\n",
       "      <td>0.0</td>\n",
       "      <td>0.0</td>\n",
       "      <td>1099794</td>\n",
       "      <td>0</td>\n",
       "    </tr>\n",
       "    <tr>\n",
       "      <th>1</th>\n",
       "      <td>-0.218783</td>\n",
       "      <td>-0.044145</td>\n",
       "      <td>-0.097401</td>\n",
       "      <td>-0.016558</td>\n",
       "      <td>0.358164</td>\n",
       "      <td>-0.057119</td>\n",
       "      <td>0.405258</td>\n",
       "      <td>-0.096753</td>\n",
       "      <td>1.649606</td>\n",
       "      <td>-0.021693</td>\n",
       "      <td>...</td>\n",
       "      <td>0.0</td>\n",
       "      <td>0.0</td>\n",
       "      <td>0.0</td>\n",
       "      <td>0.0</td>\n",
       "      <td>0.0</td>\n",
       "      <td>1.0</td>\n",
       "      <td>0.0</td>\n",
       "      <td>0.0</td>\n",
       "      <td>1034754</td>\n",
       "      <td>0</td>\n",
       "    </tr>\n",
       "    <tr>\n",
       "      <th>2</th>\n",
       "      <td>3.687658</td>\n",
       "      <td>-0.044145</td>\n",
       "      <td>0.061072</td>\n",
       "      <td>-0.016558</td>\n",
       "      <td>1.073570</td>\n",
       "      <td>-0.057119</td>\n",
       "      <td>1.994895</td>\n",
       "      <td>-0.096753</td>\n",
       "      <td>1.318463</td>\n",
       "      <td>-0.021693</td>\n",
       "      <td>...</td>\n",
       "      <td>0.0</td>\n",
       "      <td>0.0</td>\n",
       "      <td>0.0</td>\n",
       "      <td>0.0</td>\n",
       "      <td>0.0</td>\n",
       "      <td>0.0</td>\n",
       "      <td>0.0</td>\n",
       "      <td>0.0</td>\n",
       "      <td>1046686</td>\n",
       "      <td>0</td>\n",
       "    </tr>\n",
       "    <tr>\n",
       "      <th>3</th>\n",
       "      <td>-0.587315</td>\n",
       "      <td>-0.044145</td>\n",
       "      <td>0.282934</td>\n",
       "      <td>0.189073</td>\n",
       "      <td>2.056176</td>\n",
       "      <td>0.580459</td>\n",
       "      <td>0.835741</td>\n",
       "      <td>0.384928</td>\n",
       "      <td>0.168980</td>\n",
       "      <td>-0.021693</td>\n",
       "      <td>...</td>\n",
       "      <td>0.0</td>\n",
       "      <td>0.0</td>\n",
       "      <td>0.0</td>\n",
       "      <td>0.0</td>\n",
       "      <td>0.0</td>\n",
       "      <td>0.0</td>\n",
       "      <td>0.0</td>\n",
       "      <td>0.0</td>\n",
       "      <td>1054989</td>\n",
       "      <td>0</td>\n",
       "    </tr>\n",
       "    <tr>\n",
       "      <th>4</th>\n",
       "      <td>-0.218783</td>\n",
       "      <td>-0.044145</td>\n",
       "      <td>-0.034012</td>\n",
       "      <td>0.189073</td>\n",
       "      <td>0.108202</td>\n",
       "      <td>-0.057119</td>\n",
       "      <td>-0.008426</td>\n",
       "      <td>-0.059700</td>\n",
       "      <td>0.210848</td>\n",
       "      <td>-0.021693</td>\n",
       "      <td>...</td>\n",
       "      <td>0.0</td>\n",
       "      <td>0.0</td>\n",
       "      <td>0.0</td>\n",
       "      <td>0.0</td>\n",
       "      <td>0.0</td>\n",
       "      <td>0.0</td>\n",
       "      <td>0.0</td>\n",
       "      <td>1.0</td>\n",
       "      <td>1036759</td>\n",
       "      <td>0</td>\n",
       "    </tr>\n",
       "    <tr>\n",
       "      <th>...</th>\n",
       "      <td>...</td>\n",
       "      <td>...</td>\n",
       "      <td>...</td>\n",
       "      <td>...</td>\n",
       "      <td>...</td>\n",
       "      <td>...</td>\n",
       "      <td>...</td>\n",
       "      <td>...</td>\n",
       "      <td>...</td>\n",
       "      <td>...</td>\n",
       "      <td>...</td>\n",
       "      <td>...</td>\n",
       "      <td>...</td>\n",
       "      <td>...</td>\n",
       "      <td>...</td>\n",
       "      <td>...</td>\n",
       "      <td>...</td>\n",
       "      <td>...</td>\n",
       "      <td>...</td>\n",
       "      <td>...</td>\n",
       "      <td>...</td>\n",
       "    </tr>\n",
       "    <tr>\n",
       "      <th>79995</th>\n",
       "      <td>-0.034516</td>\n",
       "      <td>-0.044145</td>\n",
       "      <td>-0.097401</td>\n",
       "      <td>-0.016558</td>\n",
       "      <td>-0.098662</td>\n",
       "      <td>-0.057119</td>\n",
       "      <td>0.413657</td>\n",
       "      <td>-0.096753</td>\n",
       "      <td>-0.101263</td>\n",
       "      <td>-0.021693</td>\n",
       "      <td>...</td>\n",
       "      <td>0.0</td>\n",
       "      <td>0.0</td>\n",
       "      <td>0.0</td>\n",
       "      <td>0.0</td>\n",
       "      <td>0.0</td>\n",
       "      <td>0.0</td>\n",
       "      <td>0.0</td>\n",
       "      <td>0.0</td>\n",
       "      <td>1005266</td>\n",
       "      <td>1</td>\n",
       "    </tr>\n",
       "    <tr>\n",
       "      <th>79996</th>\n",
       "      <td>0.444575</td>\n",
       "      <td>-0.044145</td>\n",
       "      <td>-0.160790</td>\n",
       "      <td>-0.016558</td>\n",
       "      <td>1.039092</td>\n",
       "      <td>-0.057119</td>\n",
       "      <td>0.598450</td>\n",
       "      <td>-0.096753</td>\n",
       "      <td>-0.211644</td>\n",
       "      <td>-0.021693</td>\n",
       "      <td>...</td>\n",
       "      <td>0.0</td>\n",
       "      <td>0.0</td>\n",
       "      <td>0.0</td>\n",
       "      <td>0.0</td>\n",
       "      <td>0.0</td>\n",
       "      <td>0.0</td>\n",
       "      <td>0.0</td>\n",
       "      <td>0.0</td>\n",
       "      <td>1078121</td>\n",
       "      <td>0</td>\n",
       "    </tr>\n",
       "    <tr>\n",
       "      <th>79997</th>\n",
       "      <td>-0.329342</td>\n",
       "      <td>-0.044145</td>\n",
       "      <td>0.029377</td>\n",
       "      <td>-0.016558</td>\n",
       "      <td>-0.486533</td>\n",
       "      <td>-0.057119</td>\n",
       "      <td>-0.224718</td>\n",
       "      <td>-0.096753</td>\n",
       "      <td>-0.519949</td>\n",
       "      <td>-0.021693</td>\n",
       "      <td>...</td>\n",
       "      <td>0.0</td>\n",
       "      <td>0.0</td>\n",
       "      <td>0.0</td>\n",
       "      <td>0.0</td>\n",
       "      <td>0.0</td>\n",
       "      <td>0.0</td>\n",
       "      <td>0.0</td>\n",
       "      <td>0.0</td>\n",
       "      <td>1022696</td>\n",
       "      <td>0</td>\n",
       "    </tr>\n",
       "    <tr>\n",
       "      <th>79998</th>\n",
       "      <td>3.171713</td>\n",
       "      <td>-0.044145</td>\n",
       "      <td>-0.129095</td>\n",
       "      <td>-0.016558</td>\n",
       "      <td>0.789131</td>\n",
       "      <td>-0.057119</td>\n",
       "      <td>1.129729</td>\n",
       "      <td>-0.096753</td>\n",
       "      <td>0.975902</td>\n",
       "      <td>-0.021693</td>\n",
       "      <td>...</td>\n",
       "      <td>0.0</td>\n",
       "      <td>0.0</td>\n",
       "      <td>0.0</td>\n",
       "      <td>0.0</td>\n",
       "      <td>0.0</td>\n",
       "      <td>0.0</td>\n",
       "      <td>0.0</td>\n",
       "      <td>0.0</td>\n",
       "      <td>1007424</td>\n",
       "      <td>0</td>\n",
       "    </tr>\n",
       "    <tr>\n",
       "      <th>79999</th>\n",
       "      <td>-0.550462</td>\n",
       "      <td>-0.044145</td>\n",
       "      <td>-0.350957</td>\n",
       "      <td>-0.016558</td>\n",
       "      <td>-0.624443</td>\n",
       "      <td>-0.057119</td>\n",
       "      <td>-0.741297</td>\n",
       "      <td>-0.096753</td>\n",
       "      <td>-0.497111</td>\n",
       "      <td>-0.021693</td>\n",
       "      <td>...</td>\n",
       "      <td>0.0</td>\n",
       "      <td>0.0</td>\n",
       "      <td>0.0</td>\n",
       "      <td>0.0</td>\n",
       "      <td>0.0</td>\n",
       "      <td>0.0</td>\n",
       "      <td>0.0</td>\n",
       "      <td>0.0</td>\n",
       "      <td>1036771</td>\n",
       "      <td>0</td>\n",
       "    </tr>\n",
       "  </tbody>\n",
       "</table>\n",
       "<p>80000 rows × 109 columns</p>\n",
       "</div>"
      ],
      "text/plain": [
       "       drop_vce_Mean  drop_dat_Mean  blck_vce_Mean  blck_dat_Mean  \\\n",
       "0          -0.255636      -0.044145      -0.287568      -0.016558   \n",
       "1          -0.218783      -0.044145      -0.097401      -0.016558   \n",
       "2           3.687658      -0.044145       0.061072      -0.016558   \n",
       "3          -0.587315      -0.044145       0.282934       0.189073   \n",
       "4          -0.218783      -0.044145      -0.034012       0.189073   \n",
       "...              ...            ...            ...            ...   \n",
       "79995      -0.034516      -0.044145      -0.097401      -0.016558   \n",
       "79996       0.444575      -0.044145      -0.160790      -0.016558   \n",
       "79997      -0.329342      -0.044145       0.029377      -0.016558   \n",
       "79998       3.171713      -0.044145      -0.129095      -0.016558   \n",
       "79999      -0.550462      -0.044145      -0.350957      -0.016558   \n",
       "\n",
       "       unan_vce_Mean  unan_dat_Mean  plcd_vce_Mean  plcd_dat_Mean  \\\n",
       "0           0.013389      -0.057119      -0.176420      -0.059700   \n",
       "1           0.358164      -0.057119       0.405258      -0.096753   \n",
       "2           1.073570      -0.057119       1.994895      -0.096753   \n",
       "3           2.056176       0.580459       0.835741       0.384928   \n",
       "4           0.108202      -0.057119      -0.008426      -0.059700   \n",
       "...              ...            ...            ...            ...   \n",
       "79995      -0.098662      -0.057119       0.413657      -0.096753   \n",
       "79996       1.039092      -0.057119       0.598450      -0.096753   \n",
       "79997      -0.486533      -0.057119      -0.224718      -0.096753   \n",
       "79998       0.789131      -0.057119       1.129729      -0.096753   \n",
       "79999      -0.624443      -0.057119      -0.741297      -0.096753   \n",
       "\n",
       "       recv_vce_Mean  recv_sms_Mean  ...  crclscod_Z  crclscod_Z1  \\\n",
       "0          -0.245900      -0.021693  ...         0.0          0.0   \n",
       "1           1.649606      -0.021693  ...         0.0          0.0   \n",
       "2           1.318463      -0.021693  ...         0.0          0.0   \n",
       "3           0.168980      -0.021693  ...         0.0          0.0   \n",
       "4           0.210848      -0.021693  ...         0.0          0.0   \n",
       "...              ...            ...  ...         ...          ...   \n",
       "79995      -0.101263      -0.021693  ...         0.0          0.0   \n",
       "79996      -0.211644      -0.021693  ...         0.0          0.0   \n",
       "79997      -0.519949      -0.021693  ...         0.0          0.0   \n",
       "79998       0.975902      -0.021693  ...         0.0          0.0   \n",
       "79999      -0.497111      -0.021693  ...         0.0          0.0   \n",
       "\n",
       "       crclscod_Z2  crclscod_Z4  crclscod_Z5  crclscod_ZA  crclscod_ZY  \\\n",
       "0              0.0          0.0          0.0          0.0          0.0   \n",
       "1              0.0          0.0          0.0          1.0          0.0   \n",
       "2              0.0          0.0          0.0          0.0          0.0   \n",
       "3              0.0          0.0          0.0          0.0          0.0   \n",
       "4              0.0          0.0          0.0          0.0          0.0   \n",
       "...            ...          ...          ...          ...          ...   \n",
       "79995          0.0          0.0          0.0          0.0          0.0   \n",
       "79996          0.0          0.0          0.0          0.0          0.0   \n",
       "79997          0.0          0.0          0.0          0.0          0.0   \n",
       "79998          0.0          0.0          0.0          0.0          0.0   \n",
       "79999          0.0          0.0          0.0          0.0          0.0   \n",
       "\n",
       "       asl_flag_Y  Customer_ID  churn  \n",
       "0             0.0      1099794      0  \n",
       "1             0.0      1034754      0  \n",
       "2             0.0      1046686      0  \n",
       "3             0.0      1054989      0  \n",
       "4             1.0      1036759      0  \n",
       "...           ...          ...    ...  \n",
       "79995         0.0      1005266      1  \n",
       "79996         0.0      1078121      0  \n",
       "79997         0.0      1022696      0  \n",
       "79998         0.0      1007424      0  \n",
       "79999         0.0      1036771      0  \n",
       "\n",
       "[80000 rows x 109 columns]"
      ]
     },
     "execution_count": 61,
     "metadata": {},
     "output_type": "execute_result"
    }
   ],
   "source": [
    "df_train_featurized"
   ]
  },
  {
   "cell_type": "markdown",
   "metadata": {},
   "source": [
    "## 3. Persisting the artifacts from data cleaning and featurization"
   ]
  },
  {
   "cell_type": "markdown",
   "metadata": {},
   "source": [
    "They are important for the service later, which will apply the same logic to the raw input data (from df_raw_test)"
   ]
  },
  {
   "cell_type": "code",
   "execution_count": 30,
   "metadata": {},
   "outputs": [
    {
     "data": {
      "text/plain": [
       "['../services/models/encoder.pkl']"
      ]
     },
     "execution_count": 30,
     "metadata": {},
     "output_type": "execute_result"
    }
   ],
   "source": [
    "import joblib\n",
    "\n",
    "# # save the columns_without_missing to a file\n",
    "with open('../services/models/retained_cols.json', 'w') as f:\n",
    "    json.dump(retained_cols.tolist(), f)\n",
    "\n",
    "\n",
    "joblib.dump(scaler, '../services/models/scaler.pkl')\n",
    "joblib.dump(encoder, '../services/models/encoder.pkl')\n",
    "\n"
   ]
  }
 ],
 "metadata": {
  "kernelspec": {
   "display_name": "telco-churn-prediction",
   "language": "python",
   "name": "python3"
  },
  "language_info": {
   "codemirror_mode": {
    "name": "ipython",
    "version": 3
   },
   "file_extension": ".py",
   "mimetype": "text/x-python",
   "name": "python",
   "nbconvert_exporter": "python",
   "pygments_lexer": "ipython3",
   "version": "3.11.10"
  }
 },
 "nbformat": 4,
 "nbformat_minor": 2
}
