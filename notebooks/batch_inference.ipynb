{
 "cells": [
  {
   "cell_type": "code",
   "execution_count": 1,
   "metadata": {},
   "outputs": [],
   "source": [
    "import pandas as pd\n",
    "from loguru import logger\n",
    "import json\n",
    "import joblib"
   ]
  },
  {
   "cell_type": "markdown",
   "metadata": {},
   "source": [
    "## 1. Load Model and Artifacts from Training"
   ]
  },
  {
   "cell_type": "code",
   "execution_count": 9,
   "metadata": {},
   "outputs": [],
   "source": [
    "retained_cols = json.load(open('../services/models/retained_cols.json'))\n",
    "feat_cols = json.load(open('../services/models/feat_cols.json'))\n",
    "scaler = joblib.load('../services/models/scaler.pkl')\n",
    "model = joblib.load('../services/models/xgboost_clf_model.pkl')\n",
    "label_col = 'Churn'"
   ]
  },
  {
   "cell_type": "markdown",
   "metadata": {},
   "source": [
    "## 2. Load inference data"
   ]
  },
  {
   "cell_type": "code",
   "execution_count": 3,
   "metadata": {},
   "outputs": [
    {
     "name": "stderr",
     "output_type": "stream",
     "text": [
      "\u001b[32m2024-10-10 23:21:26.598\u001b[0m | \u001b[1mINFO    \u001b[0m | \u001b[36m__main__\u001b[0m:\u001b[36m<module>\u001b[0m:\u001b[36m2\u001b[0m - \u001b[1mData loaded with shape: (667, 11)\u001b[0m\n"
     ]
    }
   ],
   "source": [
    "df_inference_raw = pd.read_csv('../data/inference/df_inference_raw.csv')\n",
    "logger.info(f\"Data loaded with shape: {df_inference_raw.shape}\")"
   ]
  },
  {
   "cell_type": "code",
   "execution_count": 10,
   "metadata": {},
   "outputs": [
    {
     "data": {
      "text/html": [
       "<div>\n",
       "<style scoped>\n",
       "    .dataframe tbody tr th:only-of-type {\n",
       "        vertical-align: middle;\n",
       "    }\n",
       "\n",
       "    .dataframe tbody tr th {\n",
       "        vertical-align: top;\n",
       "    }\n",
       "\n",
       "    .dataframe thead th {\n",
       "        text-align: right;\n",
       "    }\n",
       "</style>\n",
       "<table border=\"1\" class=\"dataframe\">\n",
       "  <thead>\n",
       "    <tr style=\"text-align: right;\">\n",
       "      <th></th>\n",
       "      <th>AccountWeeks</th>\n",
       "      <th>ContractRenewal</th>\n",
       "      <th>DataPlan</th>\n",
       "      <th>DataUsage</th>\n",
       "      <th>CustServCalls</th>\n",
       "      <th>DayMins</th>\n",
       "      <th>DayCalls</th>\n",
       "      <th>MonthlyCharge</th>\n",
       "      <th>OverageFee</th>\n",
       "      <th>RoamMins</th>\n",
       "    </tr>\n",
       "  </thead>\n",
       "  <tbody>\n",
       "    <tr>\n",
       "      <th>0</th>\n",
       "      <td>144</td>\n",
       "      <td>1</td>\n",
       "      <td>0</td>\n",
       "      <td>0.21</td>\n",
       "      <td>4</td>\n",
       "      <td>61.6</td>\n",
       "      <td>117</td>\n",
       "      <td>20.1</td>\n",
       "      <td>3.86</td>\n",
       "      <td>8.2</td>\n",
       "    </tr>\n",
       "    <tr>\n",
       "      <th>1</th>\n",
       "      <td>66</td>\n",
       "      <td>1</td>\n",
       "      <td>0</td>\n",
       "      <td>0.00</td>\n",
       "      <td>0</td>\n",
       "      <td>34.0</td>\n",
       "      <td>133</td>\n",
       "      <td>30.0</td>\n",
       "      <td>13.93</td>\n",
       "      <td>11.5</td>\n",
       "    </tr>\n",
       "    <tr>\n",
       "      <th>2</th>\n",
       "      <td>72</td>\n",
       "      <td>1</td>\n",
       "      <td>0</td>\n",
       "      <td>0.00</td>\n",
       "      <td>1</td>\n",
       "      <td>138.9</td>\n",
       "      <td>111</td>\n",
       "      <td>42.0</td>\n",
       "      <td>10.58</td>\n",
       "      <td>10.8</td>\n",
       "    </tr>\n",
       "    <tr>\n",
       "      <th>3</th>\n",
       "      <td>97</td>\n",
       "      <td>1</td>\n",
       "      <td>0</td>\n",
       "      <td>0.00</td>\n",
       "      <td>0</td>\n",
       "      <td>225.1</td>\n",
       "      <td>90</td>\n",
       "      <td>63.0</td>\n",
       "      <td>13.98</td>\n",
       "      <td>8.8</td>\n",
       "    </tr>\n",
       "    <tr>\n",
       "      <th>4</th>\n",
       "      <td>88</td>\n",
       "      <td>1</td>\n",
       "      <td>0</td>\n",
       "      <td>0.00</td>\n",
       "      <td>3</td>\n",
       "      <td>183.5</td>\n",
       "      <td>93</td>\n",
       "      <td>46.0</td>\n",
       "      <td>8.53</td>\n",
       "      <td>8.3</td>\n",
       "    </tr>\n",
       "    <tr>\n",
       "      <th>...</th>\n",
       "      <td>...</td>\n",
       "      <td>...</td>\n",
       "      <td>...</td>\n",
       "      <td>...</td>\n",
       "      <td>...</td>\n",
       "      <td>...</td>\n",
       "      <td>...</td>\n",
       "      <td>...</td>\n",
       "      <td>...</td>\n",
       "      <td>...</td>\n",
       "    </tr>\n",
       "    <tr>\n",
       "      <th>662</th>\n",
       "      <td>142</td>\n",
       "      <td>1</td>\n",
       "      <td>0</td>\n",
       "      <td>0.20</td>\n",
       "      <td>4</td>\n",
       "      <td>232.5</td>\n",
       "      <td>74</td>\n",
       "      <td>57.0</td>\n",
       "      <td>9.09</td>\n",
       "      <td>10.4</td>\n",
       "    </tr>\n",
       "    <tr>\n",
       "      <th>663</th>\n",
       "      <td>64</td>\n",
       "      <td>0</td>\n",
       "      <td>1</td>\n",
       "      <td>2.19</td>\n",
       "      <td>0</td>\n",
       "      <td>127.2</td>\n",
       "      <td>93</td>\n",
       "      <td>57.9</td>\n",
       "      <td>8.15</td>\n",
       "      <td>8.1</td>\n",
       "    </tr>\n",
       "    <tr>\n",
       "      <th>664</th>\n",
       "      <td>163</td>\n",
       "      <td>1</td>\n",
       "      <td>1</td>\n",
       "      <td>2.38</td>\n",
       "      <td>1</td>\n",
       "      <td>224.0</td>\n",
       "      <td>126</td>\n",
       "      <td>81.8</td>\n",
       "      <td>11.68</td>\n",
       "      <td>8.8</td>\n",
       "    </tr>\n",
       "    <tr>\n",
       "      <th>665</th>\n",
       "      <td>90</td>\n",
       "      <td>0</td>\n",
       "      <td>1</td>\n",
       "      <td>3.59</td>\n",
       "      <td>0</td>\n",
       "      <td>169.0</td>\n",
       "      <td>104</td>\n",
       "      <td>80.9</td>\n",
       "      <td>9.44</td>\n",
       "      <td>13.3</td>\n",
       "    </tr>\n",
       "    <tr>\n",
       "      <th>666</th>\n",
       "      <td>17</td>\n",
       "      <td>1</td>\n",
       "      <td>0</td>\n",
       "      <td>0.00</td>\n",
       "      <td>1</td>\n",
       "      <td>161.5</td>\n",
       "      <td>123</td>\n",
       "      <td>46.0</td>\n",
       "      <td>10.71</td>\n",
       "      <td>8.6</td>\n",
       "    </tr>\n",
       "  </tbody>\n",
       "</table>\n",
       "<p>667 rows × 10 columns</p>\n",
       "</div>"
      ],
      "text/plain": [
       "     AccountWeeks  ContractRenewal  DataPlan  DataUsage  CustServCalls  \\\n",
       "0             144                1         0       0.21              4   \n",
       "1              66                1         0       0.00              0   \n",
       "2              72                1         0       0.00              1   \n",
       "3              97                1         0       0.00              0   \n",
       "4              88                1         0       0.00              3   \n",
       "..            ...              ...       ...        ...            ...   \n",
       "662           142                1         0       0.20              4   \n",
       "663            64                0         1       2.19              0   \n",
       "664           163                1         1       2.38              1   \n",
       "665            90                0         1       3.59              0   \n",
       "666            17                1         0       0.00              1   \n",
       "\n",
       "     DayMins  DayCalls  MonthlyCharge  OverageFee  RoamMins  \n",
       "0       61.6       117           20.1        3.86       8.2  \n",
       "1       34.0       133           30.0       13.93      11.5  \n",
       "2      138.9       111           42.0       10.58      10.8  \n",
       "3      225.1        90           63.0       13.98       8.8  \n",
       "4      183.5        93           46.0        8.53       8.3  \n",
       "..       ...       ...            ...         ...       ...  \n",
       "662    232.5        74           57.0        9.09      10.4  \n",
       "663    127.2        93           57.9        8.15       8.1  \n",
       "664    224.0       126           81.8       11.68       8.8  \n",
       "665    169.0       104           80.9        9.44      13.3  \n",
       "666    161.5       123           46.0       10.71       8.6  \n",
       "\n",
       "[667 rows x 10 columns]"
      ]
     },
     "execution_count": 10,
     "metadata": {},
     "output_type": "execute_result"
    }
   ],
   "source": [
    "# actual inference data do not have labels\n",
    "# we separate the labels for later use for evaluation only\n",
    "labels = df_inference_raw[label_col].to_list()\n",
    "\n",
    "# only keep features that were used in training\n",
    "df_inference_cleaned= df_inference_raw[feat_cols]\n",
    "df_inference_cleaned"
   ]
  },
  {
   "cell_type": "code",
   "execution_count": 11,
   "metadata": {},
   "outputs": [],
   "source": [
    "df_inference_featurized = df_inference_cleaned.copy(deep=True)\n",
    "df_inference_featurized[feat_cols] = scaler.transform(df_inference_cleaned[feat_cols])"
   ]
  },
  {
   "cell_type": "code",
   "execution_count": 12,
   "metadata": {},
   "outputs": [],
   "source": [
    "X_inference = df_inference_featurized\n",
    "y_inference = labels"
   ]
  },
  {
   "cell_type": "code",
   "execution_count": 13,
   "metadata": {},
   "outputs": [],
   "source": [
    "y_pred = model.predict(X_inference)"
   ]
  },
  {
   "cell_type": "code",
   "execution_count": 14,
   "metadata": {},
   "outputs": [
    {
     "name": "stdout",
     "output_type": "stream",
     "text": [
      "              precision    recall  f1-score   support\n",
      "\n",
      "           0       0.95      0.98      0.96       570\n",
      "           1       0.85      0.69      0.76        97\n",
      "\n",
      "    accuracy                           0.94       667\n",
      "   macro avg       0.90      0.83      0.86       667\n",
      "weighted avg       0.93      0.94      0.93       667\n",
      "\n"
     ]
    }
   ],
   "source": [
    "from sklearn.metrics import classification_report\n",
    "\n",
    "\n",
    "print(classification_report(y_inference, y_pred))\n"
   ]
  }
 ],
 "metadata": {
  "kernelspec": {
   "display_name": "telco-churn-prediction",
   "language": "python",
   "name": "python3"
  },
  "language_info": {
   "codemirror_mode": {
    "name": "ipython",
    "version": 3
   },
   "file_extension": ".py",
   "mimetype": "text/x-python",
   "name": "python",
   "nbconvert_exporter": "python",
   "pygments_lexer": "ipython3",
   "version": "3.11.10"
  }
 },
 "nbformat": 4,
 "nbformat_minor": 2
}
